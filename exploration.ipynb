{
 "cells": [
  {
   "cell_type": "markdown",
   "metadata": {},
   "source": [
    "# Analysis of 2019 National High School Exam Data (ENEM) in Brazil (1)"
   ]
  },
  {
   "cell_type": "markdown",
   "metadata": {},
   "source": [
    " "
   ]
  },
  {
   "cell_type": "markdown",
   "metadata": {},
   "source": [
    "This notebook is my personal playground in which I am applying some machine learning techniques to predict student outcomes on the 2019 National High School Exam (Exame Nacional do Ensino Médio, or ENEM). The dataset is from <a href=\"https://www.kaggle.com/saraivaufc/enem-2019\">Kaggle</a>.\n",
    "\n",
    "This notebook focuses on basic descriptives and feature engineering. See the other notebook on the same repo for modelling exercises."
   ]
  },
  {
   "cell_type": "markdown",
   "metadata": {},
   "source": [
    " "
   ]
  },
  {
   "cell_type": "code",
   "execution_count": 1,
   "metadata": {},
   "outputs": [
    {
     "data": {
      "text/plain": [
       "(5095270, 136)"
      ]
     },
     "execution_count": 1,
     "metadata": {},
     "output_type": "execute_result"
    }
   ],
   "source": [
    "import pandas as pd\n",
    "pd.set_option('display.float_format', lambda x: '%.5f' % x)\n",
    "import numpy as np\n",
    "import matplotlib.pyplot as plt\n",
    "import matplotlib.ticker as mtick\n",
    "data = pd.read_csv(\"data/MICRODADOS_ENEM_2019.csv\", encoding = 'latin-1', delimiter = ';')\n",
    "data.shape"
   ]
  },
  {
   "cell_type": "code",
   "execution_count": 2,
   "metadata": {},
   "outputs": [
    {
     "data": {
      "text/plain": [
       "True"
      ]
     },
     "execution_count": 2,
     "metadata": {},
     "output_type": "execute_result"
    }
   ],
   "source": [
    "data['NU_INSCRICAO'].nunique() == data.shape[0]"
   ]
  },
  {
   "cell_type": "code",
   "execution_count": 3,
   "metadata": {
    "scrolled": true
   },
   "outputs": [
    {
     "data": {
      "text/html": [
       "<div>\n",
       "<style scoped>\n",
       "    .dataframe tbody tr th:only-of-type {\n",
       "        vertical-align: middle;\n",
       "    }\n",
       "\n",
       "    .dataframe tbody tr th {\n",
       "        vertical-align: top;\n",
       "    }\n",
       "\n",
       "    .dataframe thead th {\n",
       "        text-align: right;\n",
       "    }\n",
       "</style>\n",
       "<table border=\"1\" class=\"dataframe\">\n",
       "  <thead>\n",
       "    <tr style=\"text-align: right;\">\n",
       "      <th></th>\n",
       "      <th>NU_NOTA_CN</th>\n",
       "      <th>NU_NOTA_CH</th>\n",
       "      <th>NU_NOTA_LC</th>\n",
       "      <th>NU_NOTA_MT</th>\n",
       "      <th>NU_NOTA_REDACAO</th>\n",
       "    </tr>\n",
       "  </thead>\n",
       "  <tbody>\n",
       "    <tr>\n",
       "      <th>count</th>\n",
       "      <td>3710433.00000</td>\n",
       "      <td>3923145.00000</td>\n",
       "      <td>3923145.00000</td>\n",
       "      <td>3710433.00000</td>\n",
       "      <td>3923144.00000</td>\n",
       "    </tr>\n",
       "    <tr>\n",
       "      <th>mean</th>\n",
       "      <td>477.82409</td>\n",
       "      <td>507.24866</td>\n",
       "      <td>520.51766</td>\n",
       "      <td>523.12412</td>\n",
       "      <td>571.18835</td>\n",
       "    </tr>\n",
       "    <tr>\n",
       "      <th>std</th>\n",
       "      <td>76.09774</td>\n",
       "      <td>82.41163</td>\n",
       "      <td>64.15065</td>\n",
       "      <td>109.06369</td>\n",
       "      <td>188.76327</td>\n",
       "    </tr>\n",
       "    <tr>\n",
       "      <th>min</th>\n",
       "      <td>0.00000</td>\n",
       "      <td>0.00000</td>\n",
       "      <td>0.00000</td>\n",
       "      <td>0.00000</td>\n",
       "      <td>0.00000</td>\n",
       "    </tr>\n",
       "    <tr>\n",
       "      <th>25%</th>\n",
       "      <td>417.80000</td>\n",
       "      <td>447.90000</td>\n",
       "      <td>483.50000</td>\n",
       "      <td>435.10000</td>\n",
       "      <td>480.00000</td>\n",
       "    </tr>\n",
       "    <tr>\n",
       "      <th>50%</th>\n",
       "      <td>470.30000</td>\n",
       "      <td>510.60000</td>\n",
       "      <td>526.20000</td>\n",
       "      <td>501.10000</td>\n",
       "      <td>580.00000</td>\n",
       "    </tr>\n",
       "    <tr>\n",
       "      <th>75%</th>\n",
       "      <td>533.20000</td>\n",
       "      <td>566.60000</td>\n",
       "      <td>565.30000</td>\n",
       "      <td>597.80000</td>\n",
       "      <td>680.00000</td>\n",
       "    </tr>\n",
       "    <tr>\n",
       "      <th>max</th>\n",
       "      <td>860.90000</td>\n",
       "      <td>835.10000</td>\n",
       "      <td>801.70000</td>\n",
       "      <td>985.50000</td>\n",
       "      <td>1000.00000</td>\n",
       "    </tr>\n",
       "  </tbody>\n",
       "</table>\n",
       "</div>"
      ],
      "text/plain": [
       "         NU_NOTA_CN    NU_NOTA_CH    NU_NOTA_LC    NU_NOTA_MT  NU_NOTA_REDACAO\n",
       "count 3710433.00000 3923145.00000 3923145.00000 3710433.00000    3923144.00000\n",
       "mean      477.82409     507.24866     520.51766     523.12412        571.18835\n",
       "std        76.09774      82.41163      64.15065     109.06369        188.76327\n",
       "min         0.00000       0.00000       0.00000       0.00000          0.00000\n",
       "25%       417.80000     447.90000     483.50000     435.10000        480.00000\n",
       "50%       470.30000     510.60000     526.20000     501.10000        580.00000\n",
       "75%       533.20000     566.60000     565.30000     597.80000        680.00000\n",
       "max       860.90000     835.10000     801.70000     985.50000       1000.00000"
      ]
     },
     "execution_count": 3,
     "metadata": {},
     "output_type": "execute_result"
    }
   ],
   "source": [
    "# outcomes of interest\n",
    "data[['NU_NOTA_CN', 'NU_NOTA_CH', 'NU_NOTA_LC', 'NU_NOTA_MT', 'NU_NOTA_REDACAO']].describe()"
   ]
  },
  {
   "cell_type": "code",
   "execution_count": 4,
   "metadata": {},
   "outputs": [
    {
     "data": {
      "text/plain": [
       "NU_NOTA_CN         1384837\n",
       "NU_NOTA_CH         1172125\n",
       "NU_NOTA_LC         1172125\n",
       "NU_NOTA_MT         1384837\n",
       "NU_NOTA_REDACAO    1172126\n",
       "dtype: int64"
      ]
     },
     "execution_count": 4,
     "metadata": {},
     "output_type": "execute_result"
    }
   ],
   "source": [
    "data[['NU_NOTA_CN', 'NU_NOTA_CH', 'NU_NOTA_LC', 'NU_NOTA_MT', 'NU_NOTA_REDACAO']].isnull().sum()"
   ]
  },
  {
   "cell_type": "markdown",
   "metadata": {},
   "source": [
    " "
   ]
  },
  {
   "cell_type": "markdown",
   "metadata": {},
   "source": [
    "As you can see, there are over 5 million records in this data. The available information includes individual student demographics, academic background, and some household survey answers. The test outcomes are numeric scores on the Natural Science, Humanities, Language, Mathematics, and the essay sections. Based on <a href=\"http://prouniportal.mec.gov.br/\">this</a>, it does appear that participants who earn an average score of 450 or more on the first four sections and a non-zero score on the essay are eligible for a college scholarship program, so let us use this definition to create a binary outcome for classification. "
   ]
  },
  {
   "cell_type": "markdown",
   "metadata": {},
   "source": [
    " "
   ]
  },
  {
   "cell_type": "code",
   "execution_count": 5,
   "metadata": {},
   "outputs": [
    {
     "data": {
      "text/plain": [
       "1    2820874\n",
       "0    2274396\n",
       "Name: prouni_pass, dtype: int64"
      ]
     },
     "execution_count": 5,
     "metadata": {},
     "output_type": "execute_result"
    }
   ],
   "source": [
    "data['objective_avg'] = (data['NU_NOTA_CN'] + data['NU_NOTA_CH'] + data['NU_NOTA_LC'] + data['NU_NOTA_MT'])/4\n",
    "data['prouni_pass'] = 0\n",
    "data.loc[(data['objective_avg'] >= 450) & (data['NU_NOTA_REDACAO'] > 0), 'prouni_pass'] = 1\n",
    "data['prouni_pass'].value_counts()"
   ]
  },
  {
   "cell_type": "markdown",
   "metadata": {},
   "source": [
    " "
   ]
  },
  {
   "cell_type": "markdown",
   "metadata": {},
   "source": [
    "A bit more than a half of all participants pass, which seems like a nice balance. In the next step, let us limit the data to only those variables that will be relevant for our analysis."
   ]
  },
  {
   "cell_type": "markdown",
   "metadata": {},
   "source": [
    " "
   ]
  },
  {
   "cell_type": "code",
   "execution_count": 6,
   "metadata": {},
   "outputs": [],
   "source": [
    "data2 = data[['NU_INSCRICAO', 'CO_MUNICIPIO_RESIDENCIA', 'NU_IDADE', 'TP_SEXO', 'TP_ESTADO_CIVIL',\n",
    "             'TP_COR_RACA', 'TP_NACIONALIDADE', 'TP_ST_CONCLUSAO', 'TP_ANO_CONCLUIU',\n",
    "             'TP_ESCOLA', 'TP_ENSINO', 'IN_TREINEIRO', 'CO_MUNICIPIO_ESC',\n",
    "             'TP_DEPENDENCIA_ADM_ESC', 'TP_LOCALIZACAO_ESC', 'IN_BAIXA_VISAO',\n",
    "             'IN_CEGUEIRA', 'IN_SURDEZ', 'IN_DEFICIENCIA_AUDITIVA',\n",
    "             'IN_SURDO_CEGUEIRA', 'IN_DEFICIENCIA_FISICA', 'IN_DEFICIENCIA_MENTAL',\n",
    "             'IN_DEFICIT_ATENCAO', 'IN_DISLEXIA', 'IN_DISCALCULIA', 'IN_AUTISMO',\n",
    "             'IN_VISAO_MONOCULAR', 'IN_OUTRA_DEF', 'IN_GESTANTE', 'IN_LACTANTE',\n",
    "             'IN_IDOSO', 'IN_ESTUDA_CLASSE_HOSPITALAR', 'NU_NOTA_CN', 'NU_NOTA_CH',\n",
    "             'NU_NOTA_LC', 'NU_NOTA_MT', 'NU_NOTA_REDACAO', 'Q001', 'Q002', 'Q003',\n",
    "             'Q004', 'Q005', 'Q006', 'Q007', 'Q008', 'Q009', 'Q010', 'Q011', 'Q012',\n",
    "             'Q013', 'Q014', 'Q015', 'Q016', 'Q017', 'Q018', 'Q019', 'Q020', 'Q021',\n",
    "             'Q022', 'Q023', 'Q024', 'Q025', 'prouni_pass']]\n",
    "\n",
    "data2.columns = ['id', 'residency', 'age', 'sex', 'marital_status',\n",
    "                 'race', 'nationality', 'hs_completion', 'hs_gradyear',\n",
    "                 'hs_type', 'hs_mode', 'test_intent', 'hs_municipality',\n",
    "                 'hs_control', 'hs_locality', 'ds_vision', 'ds_blind',\n",
    "                 'ds_deaf', 'ds_hear', 'ds_blind_deaf', 'ds_physical_disab',\n",
    "                 'ds_mental_disab', 'ds_adhd', 'ds_dyslex', 'ds_dyscalc',\n",
    "                 'ds_autism', 'ds_monocular', 'ds_other', 'pregnant', 'breastfeed',\n",
    "                 'elderly', 'hospitalized', 'score_science', 'score_humanities',\n",
    "                 'score_language', 'score_math', 'score_essay', 'father_educ',\n",
    "                 'mother_educ', 'father_occup', 'mother_occup', 'hh_members',\n",
    "                 'hh_income', 'hh_domemployee', 'hh_bath', 'hh_bed', 'hh_car',\n",
    "                 'hh_motorcycle', 'hh_fridge', 'hh_freezer', 'hh_wash', 'hh_dry',\n",
    "                 'hh_microwave', 'hh_dishwash', 'hh_vacuum', 'hh_color', 'hh_dvd',\n",
    "                 'hh_cable', 'hh_cell', 'hh_landline', 'hh_comp', 'hh_web', 'prouni_pass']"
   ]
  },
  {
   "cell_type": "code",
   "execution_count": 7,
   "metadata": {},
   "outputs": [],
   "source": [
    " data2.to_csv('cleaned_int.csv')"
   ]
  },
  {
   "cell_type": "markdown",
   "metadata": {},
   "source": [
    " "
   ]
  },
  {
   "cell_type": "markdown",
   "metadata": {},
   "source": [
    "## Descriptives"
   ]
  },
  {
   "cell_type": "markdown",
   "metadata": {},
   "source": [
    " "
   ]
  },
  {
   "cell_type": "markdown",
   "metadata": {},
   "source": [
    "I include some descriptive statistics on the exam data below. The general patterns are very similar to what you normally see in education research. There is very clear evidence that basic demographics such as household income and race/ethnicity are predictive of academic outcomes. It is somewhat surprising to see have the passage rate at Special Education school higher than in regular school, but remember that ENEM is not a mandatory test, so it is likely it is been attempted by students who are reasonably confident in their ability to pass."
   ]
  },
  {
   "cell_type": "markdown",
   "metadata": {},
   "source": [
    " "
   ]
  },
  {
   "cell_type": "code",
   "execution_count": 8,
   "metadata": {},
   "outputs": [],
   "source": [
    "data = pd.read_csv('cleaned_int.csv')"
   ]
  },
  {
   "cell_type": "code",
   "execution_count": 9,
   "metadata": {},
   "outputs": [
    {
     "data": {
      "image/png": "[encoded data removed]",
      "text/plain": [
       "<Figure size 576x288 with 1 Axes>"
      ]
     },
     "metadata": {
      "needs_background": "light"
     },
     "output_type": "display_data"
    }
   ],
   "source": [
    "data['sex'] = data['sex'].map({'F': 'Female', 'M': 'Male'})\n",
    "plt.figure(figsize = (8, 4))\n",
    "data.groupby('sex')['prouni_pass'].agg(np.mean).plot(kind = 'bar', rot = False)\n",
    "plt.title(\"Passage Rates by Sex\")\n",
    "plt.xlabel(\"\")\n",
    "plt.ylim(0, 1)\n",
    "plt.gca().set_yticklabels(['{:.0f}%'.format(x*100) for x in plt.gca().get_yticks()]) \n",
    "plt.show()"
   ]
  },
  {
   "cell_type": "code",
   "execution_count": 10,
   "metadata": {},
   "outputs": [
    {
     "data": {
      "image/png": "[encoded data removed]",
      "text/plain": [
       "<Figure size 576x288 with 1 Axes>"
      ]
     },
     "metadata": {
      "needs_background": "light"
     },
     "output_type": "display_data"
    }
   ],
   "source": [
    "data.loc[data['age'] < 13, 'age_group'] = 'Unknown'\n",
    "data.loc[(data['age'] > 12) & (data['age'] < 25), 'age_group'] = 'Under 25'\n",
    "data.loc[data['age'] > 24, 'age_group'] = 'Over 25'\n",
    "plt.figure(figsize = (8, 4))\n",
    "data.groupby('age_group')['prouni_pass'].agg(np.mean).plot(kind = 'bar', rot = False)\n",
    "plt.title(\"Passage Rates by Age\")\n",
    "plt.xlabel(\"\")\n",
    "plt.ylim(0, 1)\n",
    "plt.gca().set_yticklabels(['{:.0f}%'.format(x*100) for x in plt.gca().get_yticks()]) \n",
    "plt.show()"
   ]
  },
  {
   "cell_type": "code",
   "execution_count": 11,
   "metadata": {},
   "outputs": [
    {
     "data": {
      "image/png": "[encoded data removed]",
      "text/plain": [
       "<Figure size 576x288 with 1 Axes>"
      ]
     },
     "metadata": {
      "needs_background": "light"
     },
     "output_type": "display_data"
    }
   ],
   "source": [
    "data['race'] = data['race'].map({0: 'Unknown', 1: 'White', 2: 'Black', 3: 'Brown', 4: 'Yellow', 5: 'Indigenous'})\n",
    "plt.figure(figsize = (8, 4))\n",
    "data.groupby('race')['prouni_pass'].agg(np.mean).plot(kind = 'bar', rot = False)\n",
    "plt.title(\"Passage Rates by Race/Ethnicity (IBGE Categories)\")\n",
    "plt.xlabel(\"\")\n",
    "plt.ylim(0, 1)\n",
    "plt.gca().set_yticklabels(['{:.0f}%'.format(x*100) for x in plt.gca().get_yticks()]) \n",
    "plt.show()"
   ]
  },
  {
   "cell_type": "code",
   "execution_count": 12,
   "metadata": {},
   "outputs": [
    {
     "data": {
      "image/png": "[encoded data removed]",
      "text/plain": [
       "<Figure size 864x288 with 1 Axes>"
      ]
     },
     "metadata": {
      "needs_background": "light"
     },
     "output_type": "display_data"
    }
   ],
   "source": [
    "data['hs_completion'] = data['hs_completion'].map({1: 'Completed', 2: 'Completes This Year', 3: 'Completes in Future Years',\n",
    "                                                   4: 'Did Not Complete'})\n",
    "plt.figure(figsize = (12, 4))\n",
    "data.groupby('hs_completion')['prouni_pass'].agg(np.mean).plot(kind = 'bar', rot = False)\n",
    "plt.title(\"Passage Rates by High School Completion\")\n",
    "plt.xlabel(\"\")\n",
    "plt.ylim(0, 1)\n",
    "plt.gca().set_yticklabels(['{:.0f}%'.format(x*100) for x in plt.gca().get_yticks()]) \n",
    "plt.show()"
   ]
  },
  {
   "cell_type": "code",
   "execution_count": 13,
   "metadata": {},
   "outputs": [
    {
     "data": {
      "image/png": "[encoded data removed]",
      "text/plain": [
       "<Figure size 576x288 with 1 Axes>"
      ]
     },
     "metadata": {
      "needs_background": "light"
     },
     "output_type": "display_data"
    }
   ],
   "source": [
    "data['hs_type'] = data['hs_type'].map({1: 'Regular', 2: 'Special Education', 3: 'Adult Education'})\n",
    "plt.figure(figsize = (8, 4))\n",
    "data.groupby('hs_type')['prouni_pass'].agg(np.mean).plot(kind = 'bar', rot = False)\n",
    "plt.title(\"Passage Rates by High School Type\")\n",
    "plt.xlabel(\"\")\n",
    "plt.ylim(0, 1)\n",
    "plt.gca().set_yticklabels(['{:.0f}%'.format(x*100) for x in plt.gca().get_yticks()]) \n",
    "plt.show()"
   ]
  },
  {
   "cell_type": "code",
   "execution_count": 14,
   "metadata": {},
   "outputs": [
    {
     "data": {
      "image/png": "[encoded data removed]",
      "text/plain": [
       "<Figure size 576x288 with 1 Axes>"
      ]
     },
     "metadata": {
      "needs_background": "light"
     },
     "output_type": "display_data"
    }
   ],
   "source": [
    "plt.figure(figsize = (8, 4))\n",
    "data.groupby('hh_income')['prouni_pass'].agg(np.mean).plot(kind = 'bar', rot = False)\n",
    "plt.title(\"Passage Rates by Household Income\")\n",
    "plt.xlabel(\"\")\n",
    "plt.ylim(0, 1)\n",
    "plt.gca().set_yticklabels(['{:.0f}%'.format(x*100) for x in plt.gca().get_yticks()]) \n",
    "plt.show()"
   ]
  },
  {
   "cell_type": "markdown",
   "metadata": {},
   "source": [
    " "
   ]
  },
  {
   "cell_type": "markdown",
   "metadata": {},
   "source": [
    "## Feature creation"
   ]
  },
  {
   "cell_type": "markdown",
   "metadata": {},
   "source": [
    " "
   ]
  },
  {
   "cell_type": "markdown",
   "metadata": {},
   "source": [
    "In this section, I am going through the remaining available features and transforming them for the modeling purposes. Overall, the transformations here are rather standard, at least for my field of work."
   ]
  },
  {
   "cell_type": "markdown",
   "metadata": {},
   "source": [
    "   "
   ]
  },
  {
   "cell_type": "code",
   "execution_count": 15,
   "metadata": {},
   "outputs": [
    {
     "data": {
      "text/plain": [
       "region\n",
       "11   0.47810\n",
       "12   0.46099\n",
       "13   0.39726\n",
       "14   0.47949\n",
       "15   0.47560\n",
       "16   0.43517\n",
       "17   0.46451\n",
       "21   0.45373\n",
       "22   0.50087\n",
       "23   0.53052\n",
       "24   0.56498\n",
       "25   0.54974\n",
       "26   0.54558\n",
       "27   0.49381\n",
       "28   0.53413\n",
       "29   0.50634\n",
       "31   0.60417\n",
       "32   0.57888\n",
       "33   0.60301\n",
       "35   0.61509\n",
       "41   0.60646\n",
       "42   0.62080\n",
       "43   0.60416\n",
       "50   0.52271\n",
       "51   0.48367\n",
       "52   0.55871\n",
       "53   0.57856\n",
       "Name: prouni_pass, dtype: float64"
      ]
     },
     "execution_count": 15,
     "metadata": {},
     "output_type": "execute_result"
    }
   ],
   "source": [
    "# extract the region from residency code => let us limit the number of units here\n",
    "data['region'] = data['residency'].apply(lambda x: str(x)[0:2])\n",
    "data.drop(columns = ['residency'], inplace = True)\n",
    "# note that there is some notable variation in passage rates by region\n",
    "data.groupby('region')['prouni_pass'].agg(np.mean)"
   ]
  },
  {
   "cell_type": "code",
   "execution_count": 16,
   "metadata": {},
   "outputs": [],
   "source": [
    "# drop these => some of these have already been treated abovw, others (like high school info) are not very relevant\n",
    "data.drop(columns = ['id', 'age', 'nationality', 'hs_completion', 'hs_gradyear',\n",
    "                     'hs_mode', \"hs_municipality\", \"hs_locality\"], inplace = True)"
   ]
  },
  {
   "cell_type": "code",
   "execution_count": 17,
   "metadata": {},
   "outputs": [
    {
     "data": {
      "text/plain": [
       "disability\n",
       "0   0.55400\n",
       "1   0.49611\n",
       "Name: prouni_pass, dtype: float64"
      ]
     },
     "execution_count": 17,
     "metadata": {},
     "output_type": "execute_result"
    }
   ],
   "source": [
    "# create indicator for any disability => a case of natural dimensionality reduction\n",
    "data['disability'] = 0\n",
    "for i in ['ds_vision', 'ds_blind', 'ds_deaf', 'ds_hear', 'ds_blind_deaf',\n",
    "          'ds_physical_disab', 'ds_mental_disab', 'ds_adhd', 'ds_dyslex', 'ds_dyscalc',\n",
    "          'ds_autism', 'ds_monocular', 'ds_other']:\n",
    "    data.loc[data[i] == 1, 'disability'] = 1\n",
    "data.groupby('disability')['prouni_pass'].agg(np.mean)    "
   ]
  },
  {
   "cell_type": "code",
   "execution_count": 18,
   "metadata": {},
   "outputs": [
    {
     "data": {
      "text/plain": [
       "disability_percep\n",
       "0   0.55401\n",
       "1   0.37058\n",
       "Name: prouni_pass, dtype: float64"
      ]
     },
     "execution_count": 18,
     "metadata": {},
     "output_type": "execute_result"
    }
   ],
   "source": [
    "# indicator for perceptual disability => a little bit more specific\n",
    "data['disability_percep'] = 0\n",
    "for i in ['ds_vision', 'ds_blind', 'ds_deaf', 'ds_hear', 'ds_blind_deaf']:\n",
    "    data.loc[data[i] == 1, 'disability_percep'] = 1\n",
    "data.groupby('disability_percep')['prouni_pass'].agg(np.mean)    "
   ]
  },
  {
   "cell_type": "code",
   "execution_count": 19,
   "metadata": {},
   "outputs": [
    {
     "data": {
      "text/plain": [
       "disability_mental\n",
       "0   0.55351\n",
       "1   0.60338\n",
       "Name: prouni_pass, dtype: float64"
      ]
     },
     "execution_count": 19,
     "metadata": {},
     "output_type": "execute_result"
    }
   ],
   "source": [
    "# indicator for mental disability\n",
    "data['disability_mental'] = 0\n",
    "for i in ['ds_mental_disab', 'ds_adhd', 'ds_dyslex', 'ds_dyscalc', 'ds_autism']:\n",
    "    data.loc[data[i] == 1, 'disability_mental'] = 1\n",
    "data.groupby('disability_mental')['prouni_pass'].agg(np.mean)        "
   ]
  },
  {
   "cell_type": "code",
   "execution_count": 20,
   "metadata": {},
   "outputs": [],
   "source": [
    "# drop these\n",
    "data.drop(columns = ['ds_vision', 'ds_blind', 'ds_deaf', 'ds_hear', 'ds_blind_deaf',\n",
    "          'ds_physical_disab', 'ds_mental_disab', 'ds_adhd', 'ds_dyslex', 'ds_dyscalc',\n",
    "          'ds_autism', 'ds_monocular', 'ds_other', 'pregnant', 'breastfeed', 'elderly',\n",
    "            'hospitalized'], inplace = True)"
   ]
  },
  {
   "cell_type": "code",
   "execution_count": 21,
   "metadata": {},
   "outputs": [
    {
     "data": {
      "text/plain": [
       "parents_educ\n",
       "A   0.30451\n",
       "B   0.39435\n",
       "C   0.45389\n",
       "D   0.49783\n",
       "E   0.58161\n",
       "F   0.71045\n",
       "G   0.75887\n",
       "H   0.37995\n",
       "Name: prouni_pass, dtype: float64"
      ]
     },
     "execution_count": 21,
     "metadata": {},
     "output_type": "execute_result"
    }
   ],
   "source": [
    "# parents' highest level of education\n",
    "data['parents_educ'] = \"H\"\n",
    "for i in ['A', 'B', 'C', 'D', 'E', 'F', 'G']:\n",
    "    data.loc[(data['mother_educ'] == i) | (data['father_educ'] == i), 'parents_educ'] = i\n",
    "data.groupby('parents_educ')['prouni_pass'].agg(np.mean)       "
   ]
  },
  {
   "cell_type": "code",
   "execution_count": 22,
   "metadata": {},
   "outputs": [
    {
     "data": {
      "text/plain": [
       "parents_occup\n",
       "A   0.39139\n",
       "B   0.48555\n",
       "C   0.54133\n",
       "D   0.68832\n",
       "E   0.77105\n",
       "F   0.44811\n",
       "Name: prouni_pass, dtype: float64"
      ]
     },
     "execution_count": 22,
     "metadata": {},
     "output_type": "execute_result"
    }
   ],
   "source": [
    "# parents' highest level of occupation\n",
    "data['parents_occup'] = \"F\"\n",
    "for i in ['A', 'B', 'C', 'D', 'E']:\n",
    "    data.loc[(data['mother_occup'] == i) | (data['father_occup'] == i), 'parents_occup'] = i\n",
    "data.groupby('parents_occup')['prouni_pass'].agg(np.mean)         "
   ]
  },
  {
   "cell_type": "code",
   "execution_count": 23,
   "metadata": {},
   "outputs": [],
   "source": [
    "# drop this\n",
    "data.drop(columns = ['mother_occup', 'father_occup', 'mother_educ', 'father_educ',\n",
    "                     'hh_domemployee', 'hh_bath', 'hh_bed', 'hh_car', 'hh_motorcycle',\n",
    "                     'hh_fridge', 'hh_freezer', 'hh_wash', 'hh_dry', 'hh_microwave',\n",
    "                     'hh_dishwash', 'hh_vacuum', 'hh_color', 'hh_dvd', 'hh_cable',\n",
    "                     'hh_cell', 'hh_landline', 'hh_comp'], inplace = True)"
   ]
  },
  {
   "cell_type": "code",
   "execution_count": 24,
   "metadata": {},
   "outputs": [
    {
     "data": {
      "text/plain": [
       "hh_member_group\n",
       "2 - 5    0.56761\n",
       "One      0.45193\n",
       "Over 5   0.46573\n",
       "Name: prouni_pass, dtype: float64"
      ]
     },
     "execution_count": 24,
     "metadata": {},
     "output_type": "execute_result"
    }
   ],
   "source": [
    "# household members\n",
    "data['hh_member_group'] = \"One\"\n",
    "data.loc[(data['hh_members'] > 1) & (data['hh_members'] < 6), 'hh_member_group'] = \"2 - 5\"\n",
    "data.loc[data['hh_members'] > 5, 'hh_member_group'] = \"Over 5\"\n",
    "data.groupby('hh_member_group')['prouni_pass'].agg(np.mean)        "
   ]
  },
  {
   "cell_type": "code",
   "execution_count": 25,
   "metadata": {},
   "outputs": [],
   "source": [
    "# drop this\n",
    "data.drop(columns = ['hh_members'], inplace = True)"
   ]
  },
  {
   "cell_type": "code",
   "execution_count": 26,
   "metadata": {},
   "outputs": [
    {
     "name": "stdout",
     "output_type": "stream",
     "text": [
      "Under 25    3965858\n",
      "Over 25     1129282\n",
      "Unknown         130\n",
      "Name: age_group, dtype: int64\n"
     ]
    }
   ],
   "source": [
    "# very small sample\n",
    "print(data['age_group'].value_counts())\n",
    "data = data[data['age_group'] != 'Unknown']"
   ]
  },
  {
   "cell_type": "code",
   "execution_count": 27,
   "metadata": {},
   "outputs": [],
   "source": [
    "data = data[['sex', 'marital_status', 'race', 'hs_type',\n",
    "       'test_intent', 'hs_control', 'hh_income', 'hh_web', \n",
    "        'age_group', 'region', 'disability', 'disability_percep',\n",
    "        'disability_mental', 'parents_educ', 'parents_occup',\n",
    "        'hh_member_group', 'score_science', 'score_humanities',\n",
    "        'score_language', 'score_math', 'score_essay', 'prouni_pass']]"
   ]
  },
  {
   "cell_type": "code",
   "execution_count": 28,
   "metadata": {
    "scrolled": true
   },
   "outputs": [],
   "source": [
    "data2.to_csv('cleaned.csv', index = False)"
   ]
  },
  {
   "cell_type": "code",
   "execution_count": 29,
   "metadata": {},
   "outputs": [],
   "source": [
    "###END###"
   ]
  }
 ],
 "metadata": {
  "kernelspec": {
   "display_name": "Python 3",
   "language": "python",
   "name": "python3"
  },
  "language_info": {
   "codemirror_mode": {
    "name": "ipython",
    "version": 3
   },
   "file_extension": ".py",
   "mimetype": "text/x-python",
   "name": "python",
   "nbconvert_exporter": "python",
   "pygments_lexer": "ipython3",
   "version": "3.8.3"
  }
 },
 "nbformat": 4,
 "nbformat_minor": 4
}
