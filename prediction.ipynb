{
 "cells": [
  {
   "cell_type": "markdown",
   "metadata": {},
   "source": [
    "# Analysis of 2019 National High School Exam Data (ENEM) in Brazil (2)"
   ]
  },
  {
   "cell_type": "markdown",
   "metadata": {},
   "source": [
    " "
   ]
  },
  {
   "cell_type": "markdown",
   "metadata": {},
   "source": [
    "This notebook is my personal playground in which I am applying some machine learning techniques to predict student outcomes on the 2019 National High School Exam (Exame Nacional do Ensino Médio, or ENEM). The dataset is from <a href=\"https://www.kaggle.com/saraivaufc/enem-2019\">Kaggle</a>.\n",
    "\n",
    "This notebook focuses on some modeling exercises. See the other notebook on the same repo for the datasetup/feature creation."
   ]
  },
  {
   "cell_type": "markdown",
   "metadata": {},
   "source": [
    " "
   ]
  },
  {
   "cell_type": "code",
   "execution_count": 1,
   "metadata": {},
   "outputs": [],
   "source": [
    "import pandas as pd\n",
    "pd.set_option('display.float_format', lambda x: '%.5f' % x)\n",
    "import numpy as np\n",
    "import matplotlib.pyplot as plt\n",
    "import matplotlib.ticker as mtick\n",
    "from sklearn.metrics import roc_auc_score\n",
    "data = pd.read_csv(\"cleaned.csv\")"
   ]
  },
  {
   "cell_type": "markdown",
   "metadata": {},
   "source": [
    " "
   ]
  },
  {
   "cell_type": "markdown",
   "metadata": {},
   "source": [
    "This dataset is huge, so let us focus on a random sample (about 100k records)."
   ]
  },
  {
   "cell_type": "markdown",
   "metadata": {},
   "source": [
    " "
   ]
  },
  {
   "cell_type": "code",
   "execution_count": 2,
   "metadata": {},
   "outputs": [],
   "source": [
    "data = data.sample(frac = 0.02)"
   ]
  },
  {
   "cell_type": "code",
   "execution_count": 3,
   "metadata": {},
   "outputs": [],
   "source": [
    "y = data['prouni_pass'].values\n",
    "data.drop(columns = ['score_science', 'score_humanities', \n",
    "                     'score_language', 'score_math',\n",
    "                     'score_essay', 'prouni_pass'], inplace = True)"
   ]
  },
  {
   "cell_type": "code",
   "execution_count": 4,
   "metadata": {},
   "outputs": [],
   "source": [
    "X = data.values"
   ]
  },
  {
   "cell_type": "code",
   "execution_count": 5,
   "metadata": {},
   "outputs": [],
   "source": [
    "# encoding categoricals\n",
    "from sklearn.compose import ColumnTransformer\n",
    "from sklearn.preprocessing import OneHotEncoder\n",
    "ct = ColumnTransformer(transformers=[('encoder', OneHotEncoder(), [0, 6, 7])],\n",
    "                        sparse_threshold = 0, remainder = 'passthrough')\n",
    "X = np.array(ct.fit_transform(X))"
   ]
  },
  {
   "cell_type": "code",
   "execution_count": 6,
   "metadata": {
    "scrolled": true
   },
   "outputs": [],
   "source": [
    "# split\n",
    "from sklearn.model_selection import train_test_split\n",
    "X_train, X_test, y_train, y_test = train_test_split(X, y, test_size = 0.3, random_state = 3453)"
   ]
  },
  {
   "cell_type": "markdown",
   "metadata": {},
   "source": [
    " "
   ]
  },
  {
   "cell_type": "markdown",
   "metadata": {},
   "source": [
    "Trying out some standard methods here. Overall, there does not seem to be much difference between baseline models, among which logistic regression appears to have a very slight edge over others."
   ]
  },
  {
   "cell_type": "markdown",
   "metadata": {},
   "source": [
    " "
   ]
  },
  {
   "cell_type": "code",
   "execution_count": 7,
   "metadata": {},
   "outputs": [
    {
     "name": "stdout",
     "output_type": "stream",
     "text": [
      "Fitting 5 folds for each of 361 candidates, totalling 1805 fits\n"
     ]
    },
    {
     "name": "stderr",
     "output_type": "stream",
     "text": [
      "[Parallel(n_jobs=-1)]: Using backend LokyBackend with 8 concurrent workers.\n",
      "[Parallel(n_jobs=-1)]: Done  34 tasks      | elapsed:    4.5s\n",
      "[Parallel(n_jobs=-1)]: Done 184 tasks      | elapsed:   19.5s\n",
      "[Parallel(n_jobs=-1)]: Done 434 tasks      | elapsed:   44.9s\n",
      "[Parallel(n_jobs=-1)]: Done 784 tasks      | elapsed:  1.3min\n",
      "[Parallel(n_jobs=-1)]: Done 1234 tasks      | elapsed:  2.1min\n",
      "[Parallel(n_jobs=-1)]: Done 1784 tasks      | elapsed:  3.1min\n"
     ]
    },
    {
     "name": "stdout",
     "output_type": "stream",
     "text": [
      "{'max_depth': 11, 'max_features': 12}\n"
     ]
    },
    {
     "name": "stderr",
     "output_type": "stream",
     "text": [
      "[Parallel(n_jobs=-1)]: Done 1805 out of 1805 | elapsed:  3.1min finished\n"
     ]
    }
   ],
   "source": [
    "# Decision Tree\n",
    "from sklearn.tree import DecisionTreeClassifier\n",
    "from sklearn.metrics import confusion_matrix, accuracy_score\n",
    "\n",
    "# let us try a grid search for best tuning parameters\n",
    "from sklearn.model_selection import GridSearchCV, cross_val_score\n",
    "tree = DecisionTreeClassifier(criterion = 'entropy', random_state = 3452)\n",
    "tree_params = {'max_depth': range(1,20),\n",
    "               'max_features': range(1,20)}\n",
    "\n",
    "tree_grid = GridSearchCV(tree, tree_params,\n",
    "                         cv=5, n_jobs=-1, verbose=True)\n",
    "\n",
    "tree_grid.fit(X_train, y_train)\n",
    "print(tree_grid.best_params_) "
   ]
  },
  {
   "cell_type": "code",
   "execution_count": 8,
   "metadata": {},
   "outputs": [
    {
     "name": "stdout",
     "output_type": "stream",
     "text": [
      "[[ 6923  6859]\n",
      " [ 4515 12274]]\n",
      "0.6279480553465703\n",
      "0.6734664277308604\n"
     ]
    }
   ],
   "source": [
    "# fit\n",
    "classifier = DecisionTreeClassifier(max_depth = 11, max_features = 12, criterion = 'entropy', random_state = 3452)\n",
    "classifier.fit(X_train, y_train)\n",
    "y_pred = classifier.predict(X_test)\n",
    "cm = confusion_matrix(y_test, y_pred)\n",
    "print(cm)\n",
    "print(accuracy_score(y_test, y_pred))\n",
    "print(roc_auc_score(y_test, classifier.predict_proba(X_test)[:, 1]))"
   ]
  },
  {
   "cell_type": "code",
   "execution_count": 9,
   "metadata": {},
   "outputs": [
    {
     "name": "stdout",
     "output_type": "stream",
     "text": [
      "Fitting 5 folds for each of 1710 candidates, totalling 8550 fits\n"
     ]
    },
    {
     "name": "stderr",
     "output_type": "stream",
     "text": [
      "[Parallel(n_jobs=-1)]: Using backend LokyBackend with 8 concurrent workers.\n",
      "[Parallel(n_jobs=-1)]: Done  34 tasks      | elapsed:    6.4s\n",
      "[Parallel(n_jobs=-1)]: Done 184 tasks      | elapsed:   40.6s\n",
      "[Parallel(n_jobs=-1)]: Done 434 tasks      | elapsed:  2.4min\n",
      "[Parallel(n_jobs=-1)]: Done 784 tasks      | elapsed:  4.4min\n",
      "[Parallel(n_jobs=-1)]: Done 1234 tasks      | elapsed:  8.0min\n",
      "[Parallel(n_jobs=-1)]: Done 1784 tasks      | elapsed: 13.4min\n",
      "[Parallel(n_jobs=-1)]: Done 2434 tasks      | elapsed: 19.2min\n",
      "[Parallel(n_jobs=-1)]: Done 3184 tasks      | elapsed: 28.4min\n",
      "[Parallel(n_jobs=-1)]: Done 4034 tasks      | elapsed: 39.8min\n",
      "[Parallel(n_jobs=-1)]: Done 4984 tasks      | elapsed: 53.9min\n",
      "[Parallel(n_jobs=-1)]: Done 6034 tasks      | elapsed: 70.0min\n",
      "[Parallel(n_jobs=-1)]: Done 7184 tasks      | elapsed: 93.3min\n",
      "[Parallel(n_jobs=-1)]: Done 8434 tasks      | elapsed: 103.6min\n",
      "[Parallel(n_jobs=-1)]: Done 8550 out of 8550 | elapsed: 103.8min finished\n"
     ]
    },
    {
     "name": "stdout",
     "output_type": "stream",
     "text": [
      "{'max_features': 2, 'n_estimators': 45}\n"
     ]
    }
   ],
   "source": [
    "# Random Forest\n",
    "from sklearn.ensemble import RandomForestClassifier\n",
    "\n",
    "# # grid search\n",
    "rfc = RandomForestClassifier(n_estimators = 10, max_features = 10, max_depth = 3,\n",
    "                                    criterion = 'gini', random_state = 3452)\n",
    "tree_params = {'n_estimators': range(10,100),\n",
    "               'max_features': range(1,20)}\n",
    "\n",
    "tree_grid = GridSearchCV(rfc, tree_params,\n",
    "                         cv=5, n_jobs=-1, verbose=True)\n",
    "\n",
    "tree_grid.fit(X_train, y_train)\n",
    "print(tree_grid.best_params_) "
   ]
  },
  {
   "cell_type": "code",
   "execution_count": 10,
   "metadata": {},
   "outputs": [
    {
     "name": "stdout",
     "output_type": "stream",
     "text": [
      "[[ 6014  7768]\n",
      " [ 3773 13016]]\n",
      "0.6224853619443264\n",
      "0.6754424634631522\n"
     ]
    }
   ],
   "source": [
    "# fit\n",
    "classifier = RandomForestClassifier(n_estimators = 45, max_features = 2, max_depth = 3,\n",
    "                                    criterion = 'gini', random_state = 3452)\n",
    "classifier.fit(X_train, y_train)\n",
    "y_pred = classifier.predict(X_test)\n",
    "cm = confusion_matrix(y_test, y_pred)\n",
    "print(cm)\n",
    "print(accuracy_score(y_test, y_pred))\n",
    "print(roc_auc_score(y_test, classifier.predict_proba(X_test)[:, 1]))"
   ]
  },
  {
   "cell_type": "code",
   "execution_count": 11,
   "metadata": {},
   "outputs": [
    {
     "name": "stdout",
     "output_type": "stream",
     "text": [
      "[[ 6793  6989]\n",
      " [ 4384 12405]]\n",
      "0.6279807660855059\n",
      "0.6762080391744361\n"
     ]
    }
   ],
   "source": [
    "# Logit\n",
    "from sklearn.linear_model import LogisticRegression\n",
    "\n",
    "# fit\n",
    "classifier = LogisticRegression(random_state = 3452)\n",
    "classifier.fit(X_train, y_train)\n",
    "y_pred = classifier.predict(X_test)\n",
    "cm = confusion_matrix(y_test, y_pred)\n",
    "print(cm)\n",
    "print(accuracy_score(y_test, y_pred))\n",
    "print(roc_auc_score(y_test, classifier.predict_proba(X_test)[:, 1]))"
   ]
  },
  {
   "cell_type": "code",
   "execution_count": 12,
   "metadata": {},
   "outputs": [
    {
     "name": "stdout",
     "output_type": "stream",
     "text": [
      "[[10468  3314]\n",
      " [ 8565  8224]]\n",
      "0.611429132184096\n",
      "0.6726992875342439\n"
     ]
    }
   ],
   "source": [
    "# Naive Bayes\n",
    "from sklearn.naive_bayes import GaussianNB\n",
    "\n",
    "# fit\n",
    "classifier = GaussianNB()\n",
    "classifier.fit(X_train, y_train)\n",
    "y_pred = classifier.predict(X_test)\n",
    "cm = confusion_matrix(y_test, y_pred)\n",
    "print(cm)\n",
    "print(accuracy_score(y_test, y_pred))\n",
    "print(roc_auc_score(y_test, classifier.predict_proba(X_test)[:, 1]))"
   ]
  },
  {
   "cell_type": "code",
   "execution_count": 13,
   "metadata": {},
   "outputs": [
    {
     "name": "stdout",
     "output_type": "stream",
     "text": [
      "[[ 6603  7179]\n",
      " [ 5523 11266]]\n",
      "0.5845081940401033\n",
      "0.6113054018938517\n"
     ]
    }
   ],
   "source": [
    "# KNN\n",
    "from sklearn.neighbors import KNeighborsClassifier\n",
    "classifier = KNeighborsClassifier(n_neighbors = 5, metric = 'minkowski', p = 2)\n",
    "classifier.fit(X_train, y_train)\n",
    "y_pred = classifier.predict(X_test)\n",
    "cm = confusion_matrix(y_test, y_pred)\n",
    "print(cm)\n",
    "print(accuracy_score(y_test, y_pred))\n",
    "print(roc_auc_score(y_test, classifier.predict_proba(X_test)[:, 1]))"
   ]
  },
  {
   "cell_type": "code",
   "execution_count": 14,
   "metadata": {
    "scrolled": true
   },
   "outputs": [
    {
     "name": "stdout",
     "output_type": "stream",
     "text": [
      "[[ 6994  6788]\n",
      " [ 4555 12234]]\n",
      "0.6289620882535737\n",
      "0.6751796191228477\n"
     ]
    }
   ],
   "source": [
    "# CatBoost\n",
    "from catboost import CatBoostClassifier\n",
    "classifier = CatBoostClassifier(random_seed = 3452, silent = True)\n",
    "classifier.fit(X_train, y_train)\n",
    "y_pred = classifier.predict(X_test)\n",
    "cm = confusion_matrix(y_test, y_pred)\n",
    "print(cm)\n",
    "print(accuracy_score(y_test, y_pred))\n",
    "print(roc_auc_score(y_test, classifier.predict_proba(X_test)[:, 1]))"
   ]
  },
  {
   "cell_type": "code",
   "execution_count": 15,
   "metadata": {},
   "outputs": [],
   "source": [
    "###END###"
   ]
  }
 ],
 "metadata": {
  "kernelspec": {
   "display_name": "Python 3",
   "language": "python",
   "name": "python3"
  },
  "language_info": {
   "codemirror_mode": {
    "name": "ipython",
    "version": 3
   },
   "file_extension": ".py",
   "mimetype": "text/x-python",
   "name": "python",
   "nbconvert_exporter": "python",
   "pygments_lexer": "ipython3",
   "version": "3.8.3"
  }
 },
 "nbformat": 4,
 "nbformat_minor": 4
}
